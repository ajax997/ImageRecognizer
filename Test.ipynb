{
 "cells": [
  {
   "cell_type": "code",
   "execution_count": 1,
   "metadata": {},
   "outputs": [
    {
     "data": {
      "text/plain": [
       "'/anaconda3/envs/ImageRecognizer/bin/jupyter_mac.command'"
      ]
     },
     "execution_count": 1,
     "metadata": {},
     "output_type": "execute_result"
    }
   ],
   "source": [
    "'/anaconda3/envs/ImageRecognizer/bin/jupyter_mac.command'\n",
    "\n",
    "\n"
   ]
  },
  {
   "cell_type": "code",
   "execution_count": 1,
   "metadata": {
    "collapsed": false
   },
   "outputs": [
    {
     "name": "stderr",
     "output_type": "stream",
     "text": [
      "/anaconda3/envs/ImageRecognizer/lib/python3.6/site-packages/ipykernel_launcher.py:12: DeprecationWarning: `imresize` is deprecated!\n`imresize` is deprecated in SciPy 1.0.0, and will be removed in 1.2.0.\nUse ``skimage.transform.resize`` instead.\n  if sys.path[0] == '':\n"
     ]
    },
    {
     "name": "stdout",
     "output_type": "stream",
     "text": [
      "2\n"
     ]
    }
   ],
   "source": [
    "import cv2\n",
    "import numpy as np\n",
    "import matplotlib.pyplot as plt\n",
    "from scipy.misc import imresize\n",
    "\n",
    "img = cv2.imread('images/complex.png', 0)\n",
    "img = 255 - cv2.Canny(img, 50, 150, apertureSize=5, L2gradient=True)\n",
    "W, H = img.shape[:2]\n",
    "\n",
    "kernel = np.ones((15, 15), np.uint8)\n",
    "erosion = cv2.erode(img, kernel, iterations=1)\n",
    "erosion = imresize(erosion, 600 / max(W, H))\n",
    "erosion = 255 - cv2.Canny(erosion, 50, 150, apertureSize=5, L2gradient=True)\n",
    "\n",
    "_W, _H = erosion.shape[:2]\n",
    "\n",
    "\n",
    "def tracePx(x, y):\n",
    "    visited = []\n",
    "    ls = [[x, y]]\n",
    "    while len(ls) != 0:\n",
    "        cx, cy = ls.pop()\n",
    "        erosion[cx, cy] = 255\n",
    "\n",
    "        if cx + 1 < _W and cx - 1 > 0 and cy - 1 > 0 and cy + 1 < _H:\n",
    "            if erosion[cx + 1, cy + 1] != 255:\n",
    "                visited.append([cx + 1, cy + 1])\n",
    "            if erosion[cx + 1, cy - 1] != 255:\n",
    "                visited.append([cx + 1, cy - 1])\n",
    "            if erosion[cx - 1, cy + 1] != 255:\n",
    "                visited.append([cx - 1, cy + 1])\n",
    "            if erosion[cx - 1, cy - 1] != 255:\n",
    "                visited.append([cx - 1, cy - 1])\n",
    "            if erosion[cx, cy + 1] != 255:\n",
    "                visited.append([cx, cy + 1])\n",
    "            if erosion[cx, cy - 1] != 255:\n",
    "                visited.append([cx, cy - 1])\n",
    "            if erosion[cx + 1, cy] != 255:\n",
    "                visited.append([cx + 1, cy])\n",
    "            if erosion[cx - 1, cy] != 255:\n",
    "                visited.append([cx - 1, cy])\n",
    "    print(len(visited))\n",
    "                \n",
    "                \n",
    "br = False\n",
    "for i in range(0, _W):\n",
    "    if br:\n",
    "        break\n",
    "    for j in range(0, _H):\n",
    "        if erosion[i, j] != 255:\n",
    "            tracePx(i, j)\n",
    "            br = True\n",
    "            break\n",
    "\n",
    "cv2.imshow('', erosion)\n",
    "cv2.waitKey(0)\n",
    "cv2.destroyAllWindows()\n",
    "cv2.waitKey(1)\n"
   ]
  },
  {
   "cell_type": "code",
   "execution_count": null,
   "metadata": {},
   "outputs": [
    {
     "data": {
      "image/png": "[encoded data removed]",
      "text/plain": [
       "<Figure size 432x288 with 1 Axes>"
      ]
     },
     "metadata": {},
     "output_type": "display_data"
    }
   ],
   "source": [
    "import cv2\n",
    "import numpy as np\n",
    "import random\n",
    "import matplotlib.pyplot as plt\n",
    "\n",
    "points = []\n",
    "\n",
    "while len(points) < 100:\n",
    "    points.append([random.randint(0, 500), random.randint(0, 500)])\n",
    "\n",
    "points = np.array(points)\n",
    "plt.scatter(points[:, 0], points[:, 1], s=1)\n",
    "plt.show()\n",
    "    \n",
    "\n"
   ]
  },
  {
   "cell_type": "code",
   "execution_count": 6,
   "metadata": {},
   "outputs": [
    {
     "data": {
      "image/png": "[encoded data removed]",
      "text/plain": [
       "<Figure size 432x288 with 1 Axes>"
      ]
     },
     "metadata": {},
     "output_type": "display_data"
    }
   ],
   "source": [
    "import cv2\n",
    "import matplotlib.pyplot as plt\n",
    "img = cv2.imread(\"images/test.png\", 0)\n",
    "\n",
    "W, H = img.shape[:2]\n",
    "\n",
    "M = cv2.getRotationMatrix2D((W/2, H/2),320.01056057898296 , 1)\n",
    "\n",
    "img = cv2.warpAffine(img, M, (H,H), borderValue=255)\n",
    "plt.imshow(img, cmap=\"gray\")\n",
    "plt.show()\n",
    "\n",
    "\n",
    "\n",
    "\n",
    "\n",
    "\n",
    "\n",
    "\n",
    "\n",
    "\n",
    "\n",
    "\n",
    "\n",
    "\n"
   ]
  },
  {
   "cell_type": "code",
   "execution_count": 19,
   "metadata": {},
   "outputs": [
    {
     "name": "stdout",
     "output_type": "stream",
     "text": [
      "[[ 319.12808855    0.        ]\n [ 230.55815551    0.        ]]\n319.128088551\n"
     ]
    }
   ],
   "source": [
    "import numpy as np\n",
    "from sklearn.cluster import KMeans\n",
    "\n",
    "x1 = np.array([319.9893266946182,\n",
    "              230.4977452357428,\n",
    "              320.01056057898296,\n",
    "              319.8657051432697,\n",
    "              318.23116407458605,\n",
    "              318.4266567726272,\n",
    "              319.2080430440072,\n",
    "              314.35096681664527,\n",
    "              319.97611747516135,\n",
    "              319.88262569337763,\n",
    "              320.85712022748703,\n",
    "              319.6106875395041,\n",
    "              230.61856579320613\n",
    "              ])\n",
    "x2 = np.zeros((len(x1)))\n",
    "\n",
    "X = np.array(list(zip(x1, x2))).reshape(len(x1), 2)\n",
    "K = 2\n",
    "\n",
    "kmeans_model = KMeans(n_clusters=K).fit(X)\n",
    "\n",
    "centers = np.array(kmeans_model.cluster_centers_)\n",
    "print(centers)\n",
    "min = 10000000\n",
    "xcc = 0\n",
    "for x, y in centers:\n",
    "    cc = 0\n",
    "    \n",
    "    for xx in x1:\n",
    "        cc += (np.math.fabs(x-xx)**2)\n",
    "    if cc < min:\n",
    "        min = cc\n",
    "        xcc = x\n",
    "\n",
    "print(xcc)\n",
    "    \n",
    "        "
   ]
  },
  {
   "cell_type": "code",
   "execution_count": 25,
   "metadata": {},
   "outputs": [
    {
     "data": {
      "text/plain": [
       "True"
      ]
     },
     "execution_count": 25,
     "metadata": {},
     "output_type": "execute_result"
    }
   ],
   "source": [
    "import cv2\n",
    "import numpy as np\n",
    "import random\n",
    "import matplotlib.pyplot as plt     \n",
    "\n",
    "img = cv2.imread(\"images/ro.png\")\n",
    "W, H = img.shape[:2]\n",
    "M = cv2.getRotationMatrix2D((W/2, H/2), 37.5,1)\n",
    "\n",
    "newIMG = cv2.warpAffine(img, M, (W, H), borderValue=(255,255,255))\n",
    "\n",
    "\n",
    "cv2.imwrite(\"images//newrotation.png\", newIMG)\n"
   ]
  }
 ],
 "metadata": {
  "kernelspec": {
   "display_name": "Python 3",
   "language": "python",
   "name": "python3"
  },
  "language_info": {
   "codemirror_mode": {
    "name": "ipython",
    "version": 3
   },
   "file_extension": ".py",
   "mimetype": "text/x-python",
   "name": "python",
   "nbconvert_exporter": "python",
   "pygments_lexer": "ipython3",
   "version": "3.6.4"
  }
 },
 "nbformat": 4,
 "nbformat_minor": 1
}
