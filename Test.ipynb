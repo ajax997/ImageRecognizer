{
 "cells": [
  {
   "cell_type": "code",
   "execution_count": 5,
   "metadata": {},
   "outputs": [
    {
     "name": "stdout",
     "output_type": "stream",
     "text": [
      "17 10\n",
      "17 10\n",
      "17 34\n",
      "17 34\n",
      "17 34\n",
      "17 34\n",
      "109 34\n"
     ]
    }
   ],
   "source": [
    "n =15\n",
    "m= 10\n",
    "\n",
    "\n",
    "if n - m == 5:\n",
    "    n = n+2\n",
    "print(n, m)\n",
    "\n",
    "if 2*n == m and n/4 == 1:\n",
    "    n = 4*m -3\n",
    "print(n, m)\n",
    "\n",
    "if n<8 or m/2 ==2:\n",
    "    n = 2*m\n",
    "else:\n",
    "    m = 2*n\n",
    "print(n, m)\n",
    "\n",
    "if n<20 and n/6 == 1:\n",
    "    m = m -n -5\n",
    "print(n, m)\n",
    "\n",
    "if n == 2*m or n/2 ==5 :\n",
    "    m = m+2\n",
    "print(n, m)\n",
    "\n",
    "if n/3 == 3 and m/3 != 1:\n",
    "    m = n\n",
    "print(n, m)\n",
    "\n",
    "if m*n != 35:\n",
    "    n = 3*m + 7\n",
    "    \n",
    "print(n, m)"
   ]
  },
  {
   "cell_type": "code",
   "execution_count": null,
   "metadata": {},
   "outputs": [],
   "source": []
  }
 ],
 "metadata": {
  "kernelspec": {
   "display_name": "Python 3",
   "language": "python",
   "name": "python3"
  },
  "language_info": {
   "codemirror_mode": {
    "name": "ipython",
    "version": 3
   },
   "file_extension": ".py",
   "mimetype": "text/x-python",
   "name": "python",
   "nbconvert_exporter": "python",
   "pygments_lexer": "ipython3",
   "version": "3.6.4"
  }
 },
 "nbformat": 4,
 "nbformat_minor": 1
}
